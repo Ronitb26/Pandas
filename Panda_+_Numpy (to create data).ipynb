{
  "nbformat": 4,
  "nbformat_minor": 0,
  "metadata": {
    "colab": {
      "provenance": []
    },
    "kernelspec": {
      "name": "python3",
      "display_name": "Python 3"
    },
    "language_info": {
      "name": "python"
    }
  },
  "cells": [
    {
      "cell_type": "markdown",
      "source": [],
      "metadata": {
        "id": "OjzvQZIGPqCO"
      }
    },
    {
      "cell_type": "code",
      "execution_count": null,
      "metadata": {
        "id": "gG3QhO5MExPz"
      },
      "outputs": [],
      "source": [
        "import pandas as pd                ## CREATE A DATA\n",
        "import numpy as np"
      ]
    },
    {
      "cell_type": "code",
      "source": [
        "labels=['w','x','y','z']\n",
        "sample_list=[100,200,300,400]\n",
        "array=np.array([1,2,3,4])\n",
        "dict={'w':10,'x':20,'y':30,'z':40}"
      ],
      "metadata": {
        "id": "5G9DlZMSHcvi"
      },
      "execution_count": null,
      "outputs": []
    },
    {
      "cell_type": "code",
      "source": [
        "pd.Series(data=sample_list)     ## USED TO CREATE A SERIES OF DATA"
      ],
      "metadata": {
        "id": "Zr7w0Z66IDWs"
      },
      "execution_count": null,
      "outputs": []
    },
    {
      "cell_type": "code",
      "source": [
        "pd.Series(data=sample_list,index=labels)       ## USED TO CHANGE INDEX ACCORDING TO US"
      ],
      "metadata": {
        "id": "99M8hdoHIILs"
      },
      "execution_count": null,
      "outputs": []
    },
    {
      "cell_type": "code",
      "source": [
        "pd.Series(sample_list,array)  "
      ],
      "metadata": {
        "id": "Wm95cc9bIV01"
      },
      "execution_count": null,
      "outputs": []
    },
    {
      "cell_type": "code",
      "source": [
        "pd.Series(dict)"
      ],
      "metadata": {
        "id": "uwI9F_YRIc8V"
      },
      "execution_count": null,
      "outputs": []
    },
    {
      "cell_type": "code",
      "source": [
        "sports1=pd.Series([1,2,3,4],index=['cricket','football','basketball','golf'])     ## IT IS ANOTHER WAY OF CREATING A SERIES\n",
        "sports1"
      ],
      "metadata": {
        "id": "Ze7-N9R6Ih2c"
      },
      "execution_count": null,
      "outputs": []
    },
    {
      "cell_type": "code",
      "source": [
        "sports1['cricket']"
      ],
      "metadata": {
        "id": "pzcyV2iBJAr9"
      },
      "execution_count": null,
      "outputs": []
    },
    {
      "cell_type": "code",
      "source": [
        "sports2=pd.Series([11,2,3,4],index=['cricket','football','baseball','golf'])\n",
        "sports2"
      ],
      "metadata": {
        "id": "kJsFpuC2JHNN"
      },
      "execution_count": null,
      "outputs": []
    },
    {
      "cell_type": "code",
      "source": [
        "sports1 + sports2        ##ONLY THE COMMON BTWEEN BOTH ARE ADDED"
      ],
      "metadata": {
        "colab": {
          "base_uri": "https://localhost:8080/"
        },
        "id": "19DzGCX-Jl4l",
        "outputId": "b0763be9-0cee-4e54-c8e9-45e346dba525"
      },
      "execution_count": null,
      "outputs": [
        {
          "output_type": "execute_result",
          "data": {
            "text/plain": [
              "baseball       NaN\n",
              "basketball     NaN\n",
              "cricket       12.0\n",
              "football       4.0\n",
              "golf           8.0\n",
              "dtype: float64"
            ]
          },
          "metadata": {},
          "execution_count": 14
        }
      ]
    },
    {
      "cell_type": "code",
      "source": [
        "df1=pd.DataFrame(np.random.rand(8,5),index='A B C D E F G H'.split(),columns='Score1 Score2 Score3 Score4 Score5'.split())\n",
        "df1        ## USED TO CREATE A DATA TABLE OF 8 ROWS AND  5 COLUMNS"
      ],
      "metadata": {
        "id": "qCD_Bqc3JuMd"
      },
      "execution_count": null,
      "outputs": []
    },
    {
      "cell_type": "code",
      "source": [
        "df1[\"Score3\"]"
      ],
      "metadata": {
        "id": "v_PweOeTKhG1"
      },
      "execution_count": null,
      "outputs": []
    },
    {
      "cell_type": "code",
      "source": [
        "df1[[\"Score1\",\"Score2\",\"Score3\"]]"
      ],
      "metadata": {
        "id": "2Nrv3NsnKnjc"
      },
      "execution_count": null,
      "outputs": []
    },
    {
      "cell_type": "code",
      "source": [
        "df1['Score6']=df1['Score1']+df1[\"Score2\"]    ## WE CAN ADD ANEW COLUMN\n",
        "df1"
      ],
      "metadata": {
        "id": "cwNdY4qKK3FU"
      },
      "execution_count": null,
      "outputs": []
    },
    {
      "cell_type": "code",
      "source": [
        "df2={'ID':['101','102','103','107','176'],'Name':['John','Mercy','Akash','Kavin','Lally'],'Profit':[20,54,56,87,123]}\n",
        "df=pd.DataFrame(df2)\n",
        "df      ## DATAFRAME CAN ALSO BE CREATED IN THIS WAY"
      ],
      "metadata": {
        "id": "6cOFgX-7LIds"
      },
      "execution_count": null,
      "outputs": []
    },
    {
      "cell_type": "code",
      "source": [
        "df[\"ID\"]"
      ],
      "metadata": {
        "id": "UmLJdJslL8Ik"
      },
      "execution_count": null,
      "outputs": []
    },
    {
      "cell_type": "code",
      "source": [
        "df[[\"ID\",\"Name\"]]"
      ],
      "metadata": {
        "id": "-_AawetLM15s"
      },
      "execution_count": null,
      "outputs": []
    },
    {
      "cell_type": "code",
      "source": [
        "df=df.drop(\"ID\",axis=1)     ## HERE ASIX MEANS THE NO. OF COLUMN WE WANT TO DROP"
      ],
      "metadata": {
        "id": "9z9jRxa0M_rU"
      },
      "execution_count": null,
      "outputs": []
    },
    {
      "cell_type": "code",
      "source": [
        "df"
      ],
      "metadata": {
        "id": "zs1XRcorNLM0"
      },
      "execution_count": null,
      "outputs": []
    },
    {
      "cell_type": "code",
      "source": [
        "df.drop(3)"
      ],
      "metadata": {
        "id": "aRQ7JiQKNOaN"
      },
      "execution_count": null,
      "outputs": []
    },
    {
      "cell_type": "code",
      "source": [
        "df.drop(2,axis=0)"
      ],
      "metadata": {
        "id": "PwyRF9tjNSUF"
      },
      "execution_count": null,
      "outputs": []
    },
    {
      "cell_type": "code",
      "source": [],
      "metadata": {
        "id": "KKYRsrUqNdS8"
      },
      "execution_count": null,
      "outputs": []
    }
  ]
}